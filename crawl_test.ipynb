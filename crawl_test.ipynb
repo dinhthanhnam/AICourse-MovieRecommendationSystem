{
 "cells": [
  {
   "cell_type": "code",
   "execution_count": null,
   "metadata": {},
   "outputs": [],
   "source": [
    "import requests\n",
    "import pandas as pd\n",
    "import time\n",
    "\n",
    "# API key của bạn từ TMDb\n",
    "api_key = 'f3a8f89e1d0435429b474be6a159709a'\n",
    "\n",
    "# Hàm lấy danh sách phim theo năm và sắp xếp theo độ phổ biến\n",
    "def get_popular_movies(api_key, start_year, end_year, vote_count_threshold=400):\n",
    "    movies_list = []\n",
    "    for year in range(start_year, end_year + 1):\n",
    "        page = 1\n",
    "        while True:\n",
    "            url = f'https://api.themoviedb.org/3/discover/movie?api_key={api_key}&language=en-US&sort_by=popularity.desc&primary_release_year={year}&page={page}&vote_count.gte={vote_count_threshold}'\n",
    "            response = requests.get(url)\n",
    "            data = response.json()\n",
    "            if 'results' not in data or len(data['results']) == 0:\n",
    "                break\n",
    "            for movie in data['results']:\n",
    "                if movie['vote_count'] > vote_count_threshold:\n",
    "                    movie['year'] = year  # Thêm thông tin năm vào phim\n",
    "                    movies_list.append(movie)\n",
    "            page += 1\n",
    "            time.sleep(0.2)\n",
    "    return movies_list\n"
   ]
  },
  {
   "cell_type": "code",
   "execution_count": null,
   "metadata": {},
   "outputs": [],
   "source": [
    "# Hàm lấy thông tin chi tiết của phim\n",
    "def get_movie_details(api_key, movie_id):\n",
    "    url = f'https://api.themoviedb.org/3/movie/{movie_id}?api_key={api_key}&language=en-US&append_to_response=credits'\n",
    "    response = requests.get(url)\n",
    "    return response.json()"
   ]
  },
  {
   "cell_type": "code",
   "execution_count": 11,
   "metadata": {},
   "outputs": [],
   "source": [
    "# Hàm lấy đánh giá của phim\n",
    "def get_movie_reviews(api_key, movie_id):\n",
    "    reviews = []\n",
    "    page = 1\n",
    "    while True:\n",
    "        url = f'https://api.themoviedb.org/3/movie/{movie_id}/reviews?api_key={api_key}&language=en-US&page={page}'\n",
    "        response = requests.get(url)\n",
    "        data = response.json()\n",
    "        if 'results' not in data or len(data['results']) == 0:\n",
    "            break\n",
    "        reviews.extend(data['results'])\n",
    "        page += 1\n",
    "        time.sleep(0.2)\n",
    "    return reviews"
   ]
  },
  {
   "cell_type": "code",
   "execution_count": 12,
   "metadata": {},
   "outputs": [],
   "source": [
    "# Hàm lấy thông tin người dùng\n",
    "def get_user_details(api_key, user_id):\n",
    "    url = f'https://api.themoviedb.org/3/user/{user_id}?api_key={api_key}&language=en-US'\n",
    "    response = requests.get(url)\n",
    "    return response.json()"
   ]
  },
  {
   "cell_type": "code",
   "execution_count": null,
   "metadata": {},
   "outputs": [],
   "source": [
    "# Lấy danh sách phim phổ biến từ 2017 đến 2024\n",
    "popular_movies = get_popular_movies(api_key, 2017, 2024)"
   ]
  },
  {
   "cell_type": "code",
   "execution_count": null,
   "metadata": {},
   "outputs": [],
   "source": [
    "# Lấy chi tiết từng phim\n",
    "detailed_movies = []\n",
    "for movie in popular_movies:\n",
    "    details = get_movie_details(api_key, movie['id'])\n",
    "    movie_data = {\n",
    "        'id': details['id'],\n",
    "        'title': details['title'],\n",
    "        'overview': details.get('overview', ''),\n",
    "        'tagline': details.get('tagline', ''),\n",
    "        'vote_count': details.get('vote_count', 0),\n",
    "        'vote_average': details.get('vote_average', 0.0),\n",
    "        'popularity': details.get('popularity', 0.0),\n",
    "        'genres': [genre['name'] for genre in details.get('genres', [])],\n",
    "        'director': '',\n",
    "        'actors': [],\n",
    "        'year': movie['year']  # Lưu lại thông tin năm\n",
    "    }\n",
    "    if 'credits' in details:\n",
    "        crew = details['credits'].get('crew', [])\n",
    "        directors = [member['name'] for member in crew if member['job'] == 'Director']\n",
    "        if directors:\n",
    "            movie_data['director'] = directors[0]\n",
    "        cast = details['credits'].get('cast', [])\n",
    "        actors = [member['name'] for member in cast[:5]]  # Lấy 5 diễn viên chính\n",
    "        movie_data['actors'] = actors\n",
    "    detailed_movies.append(movie_data)\n",
    "    time.sleep(0.2)  # Tránh bị chặn bởi server\n"
   ]
  },
  {
   "cell_type": "code",
   "execution_count": null,
   "metadata": {},
   "outputs": [],
   "source": [
    "# Chuyển đổi dữ liệu thành DataFrame và lưu vào file CSV\n",
    "movies_df = pd.DataFrame(detailed_movies)\n",
    "movies_df.to_csv('detailed_movies_2017_2024.csv', index=False)"
   ]
  },
  {
   "cell_type": "code",
   "execution_count": 13,
   "metadata": {},
   "outputs": [],
   "source": [
    "# Lấy đánh giá của các phim\n",
    "all_reviews = []\n",
    "for movie in detailed_movies:\n",
    "    reviews = get_movie_reviews(api_key, movie['id'])\n",
    "    for review in reviews:\n",
    "        review_data = {\n",
    "            'movie_id': movie['id'],\n",
    "            'user_id': review['author_details']['username'],\n",
    "            'rating': review['author_details'].get('rating', None),\n",
    "            'created_at': review['created_at']\n",
    "        }\n",
    "        all_reviews.append(review_data)\n",
    "    time.sleep(0.2)  # Tránh bị chặn bởi server\n"
   ]
  },
  {
   "cell_type": "code",
   "execution_count": 14,
   "metadata": {},
   "outputs": [],
   "source": [
    "# Chuyển đổi dữ liệu đánh giá thành DataFrame\n",
    "reviews_df = pd.DataFrame(all_reviews)"
   ]
  },
  {
   "cell_type": "code",
   "execution_count": 23,
   "metadata": {},
   "outputs": [
    {
     "data": {
      "text/html": [
       "<div>\n",
       "<style scoped>\n",
       "    .dataframe tbody tr th:only-of-type {\n",
       "        vertical-align: middle;\n",
       "    }\n",
       "\n",
       "    .dataframe tbody tr th {\n",
       "        vertical-align: top;\n",
       "    }\n",
       "\n",
       "    .dataframe thead th {\n",
       "        text-align: right;\n",
       "    }\n",
       "</style>\n",
       "<table border=\"1\" class=\"dataframe\">\n",
       "  <thead>\n",
       "    <tr style=\"text-align: right;\">\n",
       "      <th></th>\n",
       "      <th>movie_id</th>\n",
       "      <th>user_id</th>\n",
       "      <th>rating</th>\n",
       "      <th>created_at</th>\n",
       "    </tr>\n",
       "  </thead>\n",
       "  <tbody>\n",
       "    <tr>\n",
       "      <th>0</th>\n",
       "      <td>284053</td>\n",
       "      <td>Ruuz</td>\n",
       "      <td>8.0</td>\n",
       "      <td>2017-10-25T14:11:35.487Z</td>\n",
       "    </tr>\n",
       "    <tr>\n",
       "      <th>1</th>\n",
       "      <td>284053</td>\n",
       "      <td>Movie Queen41</td>\n",
       "      <td>8.0</td>\n",
       "      <td>2017-11-12T21:31:56.063Z</td>\n",
       "    </tr>\n",
       "    <tr>\n",
       "      <th>2</th>\n",
       "      <td>284053</td>\n",
       "      <td>tmdb44006625</td>\n",
       "      <td>8.0</td>\n",
       "      <td>2019-03-09T20:43:52.187Z</td>\n",
       "    </tr>\n",
       "    <tr>\n",
       "      <th>3</th>\n",
       "      <td>284053</td>\n",
       "      <td>mfrencken</td>\n",
       "      <td>8.0</td>\n",
       "      <td>2019-04-07T04:08:14.999Z</td>\n",
       "    </tr>\n",
       "    <tr>\n",
       "      <th>4</th>\n",
       "      <td>284053</td>\n",
       "      <td>ShawnSmith</td>\n",
       "      <td>NaN</td>\n",
       "      <td>2019-11-06T20:42:10.404Z</td>\n",
       "    </tr>\n",
       "    <tr>\n",
       "      <th>...</th>\n",
       "      <td>...</td>\n",
       "      <td>...</td>\n",
       "      <td>...</td>\n",
       "      <td>...</td>\n",
       "    </tr>\n",
       "    <tr>\n",
       "      <th>800</th>\n",
       "      <td>445040</td>\n",
       "      <td>Bertaut</td>\n",
       "      <td>6.0</td>\n",
       "      <td>2019-04-18T02:43:48.673Z</td>\n",
       "    </tr>\n",
       "    <tr>\n",
       "      <th>801</th>\n",
       "      <td>408220</td>\n",
       "      <td>Ruuz</td>\n",
       "      <td>4.0</td>\n",
       "      <td>2017-04-04T15:05:43.977Z</td>\n",
       "    </tr>\n",
       "    <tr>\n",
       "      <th>802</th>\n",
       "      <td>411741</td>\n",
       "      <td>Ruuz</td>\n",
       "      <td>7.0</td>\n",
       "      <td>2017-11-08T08:37:47.901Z</td>\n",
       "    </tr>\n",
       "    <tr>\n",
       "      <th>803</th>\n",
       "      <td>411741</td>\n",
       "      <td>Rangan</td>\n",
       "      <td>6.0</td>\n",
       "      <td>2018-02-04T13:54:03.461Z</td>\n",
       "    </tr>\n",
       "    <tr>\n",
       "      <th>804</th>\n",
       "      <td>411741</td>\n",
       "      <td>TitanGusang</td>\n",
       "      <td>8.0</td>\n",
       "      <td>2022-11-25T21:20:20.030Z</td>\n",
       "    </tr>\n",
       "  </tbody>\n",
       "</table>\n",
       "<p>805 rows × 4 columns</p>\n",
       "</div>"
      ],
      "text/plain": [
       "     movie_id        user_id  rating                created_at\n",
       "0      284053           Ruuz     8.0  2017-10-25T14:11:35.487Z\n",
       "1      284053  Movie Queen41     8.0  2017-11-12T21:31:56.063Z\n",
       "2      284053   tmdb44006625     8.0  2019-03-09T20:43:52.187Z\n",
       "3      284053      mfrencken     8.0  2019-04-07T04:08:14.999Z\n",
       "4      284053     ShawnSmith     NaN  2019-11-06T20:42:10.404Z\n",
       "..        ...            ...     ...                       ...\n",
       "800    445040        Bertaut     6.0  2019-04-18T02:43:48.673Z\n",
       "801    408220           Ruuz     4.0  2017-04-04T15:05:43.977Z\n",
       "802    411741           Ruuz     7.0  2017-11-08T08:37:47.901Z\n",
       "803    411741         Rangan     6.0  2018-02-04T13:54:03.461Z\n",
       "804    411741    TitanGusang     8.0  2022-11-25T21:20:20.030Z\n",
       "\n",
       "[805 rows x 4 columns]"
      ]
     },
     "execution_count": 23,
     "metadata": {},
     "output_type": "execute_result"
    }
   ],
   "source": [
    "reviews_df"
   ]
  },
  {
   "cell_type": "code",
   "execution_count": 25,
   "metadata": {},
   "outputs": [],
   "source": [
    "reviews_df.to_csv('reviews_unfiltered.csv', index = False)"
   ]
  },
  {
   "cell_type": "code",
   "execution_count": 21,
   "metadata": {},
   "outputs": [],
   "source": [
    "# Lọc người dùng có số lượng đánh giá >= 20 và tài khoản tạo trước 2017\n",
    "user_review_counts = reviews_df['user_id'].value_counts()\n",
    "filtered_users = user_review_counts[user_review_counts >= 10].index.tolist()"
   ]
  },
  {
   "cell_type": "code",
   "execution_count": 22,
   "metadata": {},
   "outputs": [
    {
     "data": {
      "text/plain": [
       "['Ruuz',\n",
       " 'Rangan',\n",
       " 'Geronimo1967',\n",
       " 'r96sk',\n",
       " 'GenerationofSwine',\n",
       " 'Dark Jedi',\n",
       " 'SoSmooth1982',\n",
       " 'mooney240',\n",
       " 'John Chard',\n",
       " 'FilipeManuelNeto',\n",
       " 'Wuchak']"
      ]
     },
     "execution_count": 22,
     "metadata": {},
     "output_type": "execute_result"
    }
   ],
   "source": [
    "filtered_users"
   ]
  },
  {
   "cell_type": "code",
   "execution_count": 16,
   "metadata": {},
   "outputs": [],
   "source": [
    "# Lấy thông tin ngày tạo tài khoản người dùng\n",
    "user_creation_dates = {}\n",
    "for user_id in filtered_users:\n",
    "    user_details = get_user_details(api_key, user_id)\n",
    "    user_creation_dates[user_id] = user_details.get('created_at', None)\n",
    "    time.sleep(0.2)  # Tránh bị chặn bởi server"
   ]
  },
  {
   "cell_type": "code",
   "execution_count": 18,
   "metadata": {},
   "outputs": [
    {
     "name": "stdout",
     "output_type": "stream",
     "text": [
      "Empty DataFrame\n",
      "Columns: [movie_id, user_id, rating, created_at]\n",
      "Index: []\n"
     ]
    }
   ],
   "source": [
    "# Lọc người dùng có tài khoản tạo trước 2017\n",
    "filtered_users = [user_id for user_id, created_at in user_creation_dates.items() if created_at and pd.to_datetime(created_at).year < 2017]\n",
    "\n",
    "filtered_reviews = reviews_df[reviews_df['user_id'].isin(filtered_users)]\n",
    "\n",
    "# Lưu dữ liệu đánh giá đã lọc vào file CSV\n",
    "filtered_reviews.to_csv('filtered_reviews.csv', index=False)\n",
    "\n",
    "# Kiểm tra kết quả\n",
    "print(filtered_reviews.head())"
   ]
  }
 ],
 "metadata": {
  "kernelspec": {
   "display_name": "Python 3",
   "language": "python",
   "name": "python3"
  },
  "language_info": {
   "codemirror_mode": {
    "name": "ipython",
    "version": 3
   },
   "file_extension": ".py",
   "mimetype": "text/x-python",
   "name": "python",
   "nbconvert_exporter": "python",
   "pygments_lexer": "ipython3",
   "version": "3.10.11"
  }
 },
 "nbformat": 4,
 "nbformat_minor": 2
}
